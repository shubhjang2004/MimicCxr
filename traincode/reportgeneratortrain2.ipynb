{
 "cells": [
  {
   "cell_type": "code",
   "execution_count": 1,
   "metadata": {
    "colab": {
     "base_uri": "https://localhost:8080/"
    },
    "executionInfo": {
     "elapsed": 174865,
     "status": "ok",
     "timestamp": 1760940151478,
     "user": {
      "displayName": "ratan",
      "userId": "17973471388606863852"
     },
     "user_tz": -330
    },
    "id": "tKt74bXaKmLP",
    "outputId": "69969b74-86f2-455f-ccb5-8d689d81cf3f"
   },
   "outputs": [
    {
     "name": "stdout",
     "output_type": "stream",
     "text": [
      "Please provide your Kaggle credentials to download this dataset. Learn more: http://bit.ly/kaggle-creds\n",
      "Your Kaggle username: \"shubhamjangid2604\"\n",
      "Your Kaggle Key: ··········\n",
      "Dataset URL: https://www.kaggle.com/datasets/shubhamjangid2604/mimiccxr\n",
      "Downloading mimiccxr.zip to ./mimiccxr\n"
     ]
    },
    {
     "name": "stderr",
     "output_type": "stream",
     "text": [
      "100%|██████████| 2.09G/2.09G [00:15<00:00, 149MB/s] \n"
     ]
    },
    {
     "name": "stdout",
     "output_type": "stream",
     "text": [
      "\n",
      "Please provide your Kaggle credentials to download this dataset. Learn more: http://bit.ly/kaggle-creds\n",
      "Your Kaggle username: \"shubhamjangid2604\"\n",
      "Your Kaggle Key: ··········\n",
      "Dataset URL: https://www.kaggle.com/datasets/shubhamjangid2604/reports\n",
      "Downloading reports.zip to ./reports\n"
     ]
    },
    {
     "name": "stderr",
     "output_type": "stream",
     "text": [
      "100%|██████████| 122M/122M [00:00<00:00, 1.38GB/s]"
     ]
    },
    {
     "name": "stdout",
     "output_type": "stream",
     "text": [
      "\n"
     ]
    },
    {
     "name": "stderr",
     "output_type": "stream",
     "text": [
      "\n"
     ]
    }
   ],
   "source": [
    "\n",
    "!pip install opendatasets --q\n",
    "import opendatasets as od\n",
    "od.download(\"https://www.kaggle.com/datasets/shubhamjangid2604/mimiccxr\")\n",
    "od.download(\"https://www.kaggle.com/datasets/shubhamjangid2604/reports\")"
   ]
  },
  {
   "cell_type": "code",
   "execution_count": 4,
   "metadata": {
    "colab": {
     "base_uri": "https://localhost:8080/"
    },
    "executionInfo": {
     "elapsed": 10571,
     "status": "ok",
     "timestamp": 1760940662048,
     "user": {
      "displayName": "ratan",
      "userId": "17973471388606863852"
     },
     "user_tz": -330
    },
    "id": "uFVk10oKPDLv",
    "outputId": "c3680dd7-cb9c-4978-fd65-23d2de666161"
   },
   "outputs": [
    {
     "name": "stdout",
     "output_type": "stream",
     "text": [
      "Mounted at /content/drive\n"
     ]
    }
   ],
   "source": [
    "from google.colab import drive\n",
    "drive.mount(\"/content/drive\")"
   ]
  },
  {
   "cell_type": "code",
   "execution_count": 2,
   "metadata": {
    "executionInfo": {
     "elapsed": 25789,
     "status": "ok",
     "timestamp": 1760941299374,
     "user": {
      "displayName": "ratan",
      "userId": "17973471388606863852"
     },
     "user_tz": -330
    },
    "id": "TP_gOkeLokFq"
   },
   "outputs": [],
   "source": [
    "!pip install torchxrayvision --q\n",
    "!pip install sacremoses   --q\n",
    "\n"
   ]
  },
  {
   "cell_type": "code",
   "execution_count": 1,
   "metadata": {
    "executionInfo": {
     "elapsed": 18725,
     "status": "ok",
     "timestamp": 1760941273583,
     "user": {
      "displayName": "ratan",
      "userId": "17973471388606863852"
     },
     "user_tz": -330
    },
    "id": "WG6KhHr_gCnx"
   },
   "outputs": [],
   "source": [
    "import torch\n",
    "import torch.nn as nn\n",
    "from torch.utils.data import Dataset, DataLoader\n",
    "from torch.cuda.amp import autocast, GradScaler\n",
    "import torchxrayvision as xrv\n",
    "import pandas as pd\n",
    "from torchvision import transforms\n",
    "from PIL import Image\n",
    "from transformers import AutoTokenizer, AutoModelForCausalLM\n",
    "from tqdm.auto import tqdm\n",
    "import os"
   ]
  },
  {
   "cell_type": "code",
   "execution_count": 3,
   "metadata": {
    "executionInfo": {
     "elapsed": 2,
     "status": "ok",
     "timestamp": 1760941299408,
     "user": {
      "displayName": "ratan",
      "userId": "17973471388606863852"
     },
     "user_tz": -330
    },
    "id": "YtKVmaQWLQjN"
   },
   "outputs": [],
   "source": [
    "\n",
    "class Config:\n",
    "    # Paths\n",
    "    train_csv = \"train.csv\"\n",
    "    val_csv = \"val.csv\"\n",
    "    save_dir = \"checkpoints\"\n",
    "\n",
    "    # Model\n",
    "    text_model = \"microsoft/biogpt\"\n",
    "\n",
    "    # Training\n",
    "    batch_size = 24\n",
    "    num_epochs = 8\n",
    "    learning_rate = 2e-5\n",
    "    max_length = 128\n",
    "    gradient_accumulation_steps = 2\n",
    "\n",
    "    # Image\n",
    "    image_size = 512\n",
    "    num_visual_tokens = 256\n",
    "    resnet_dim = 2048\n",
    "    biogpt_dim = 1024\n",
    "\n",
    "\n",
    "\n",
    "    # Device\n",
    "    device = \"cuda\" if torch.cuda.is_available() else \"cpu\"\n",
    "\n",
    "    # Mixed precision\n",
    "    use_amp = True\n",
    "\n",
    "config = Config()\n",
    "os.makedirs(config.save_dir, exist_ok=True)"
   ]
  },
  {
   "cell_type": "code",
   "execution_count": 4,
   "metadata": {
    "executionInfo": {
     "elapsed": 7,
     "status": "ok",
     "timestamp": 1760941304469,
     "user": {
      "displayName": "ratan",
      "userId": "17973471388606863852"
     },
     "user_tz": -330
    },
    "id": "yJXfsFg9LVLD"
   },
   "outputs": [],
   "source": [
    "\n",
    "class MIMICDataset(Dataset):\n",
    "    def __init__(self, csv_file, transform=None):\n",
    "        super().__init__()\n",
    "        self.mimic_df = pd.read_csv(csv_file)\n",
    "        self.transform = transform or transforms.Compose([\n",
    "            transforms.Resize((512, 512)),\n",
    "            transforms.ToTensor(),\n",
    "             # Don't normalize - let TorchXRayVision handle it naturally\n",
    "        ])\n",
    "        print(f\" Loaded {len(self.mimic_df)} samples from {csv_file}\")\n",
    "\n",
    "    def __len__(self):\n",
    "        return len(self.mimic_df)\n",
    "\n",
    "    def __getitem__(self, idx):\n",
    "        row = self.mimic_df.iloc[idx]\n",
    "        report = row[\"report_text\"]\n",
    "        image_path = row[\"image_path\"].replace('\\\\', '/')\n",
    "\n",
    "        # Load image\n",
    "        img = Image.open(image_path).convert(\"L\")  # Grayscale\n",
    "        img = self.transform(img)  # [1, 512, 512]\n",
    "\n",
    "        return {\n",
    "            \"image\": img,\n",
    "            \"report\": report\n",
    "        }\n",
    "\n",
    "def make_collate_fn(tokenizer, max_len=128):\n",
    "    def collate_fn(batch):\n",
    "        texts = [ex[\"report\"] for ex in batch]\n",
    "        images = torch.stack([ex[\"image\"] for ex in batch])\n",
    "\n",
    "        # Tokenize reports\n",
    "        enc = tokenizer(\n",
    "            texts,\n",
    "            padding=\"max_length\",\n",
    "            truncation=True,\n",
    "            max_length=max_len,\n",
    "            return_tensors=\"pt\",\n",
    "            return_attention_mask=True\n",
    "        )\n",
    "\n",
    "        return {\n",
    "            \"images\": images,\n",
    "            \"input_ids\": enc[\"input_ids\"],\n",
    "            \"attention_mask\": enc[\"attention_mask\"]\n",
    "        }\n",
    "    return collate_fn\n"
   ]
  },
  {
   "cell_type": "code",
   "execution_count": 5,
   "metadata": {
    "executionInfo": {
     "elapsed": 3,
     "status": "ok",
     "timestamp": 1760941307358,
     "user": {
      "displayName": "ratan",
      "userId": "17973471388606863852"
     },
     "user_tz": -330
    },
    "id": "JYo56qymLdPd"
   },
   "outputs": [],
   "source": [
    "\n",
    "class ImageEncoder(nn.Module):\n",
    "    def __init__(self, xrv_model, resnet_dim=2048, biogpt_dim=1024):\n",
    "        super().__init__()\n",
    "        # Feature extractor (gives [B, 2048, 16, 16])\n",
    "        self.feature_extractor = nn.Sequential(\n",
    "            *list(xrv_model.model.children())[:-2]\n",
    "        )\n",
    "\n",
    "        # Project 2048 → 1024\n",
    "        self.projection = nn.Sequential(\n",
    "            nn.Linear(resnet_dim, biogpt_dim),\n",
    "            nn.LayerNorm(biogpt_dim),\n",
    "            nn.GELU(),\n",
    "            nn.Dropout(0.1)\n",
    "        )\n",
    "\n",
    "    def forward(self, images):\n",
    "        # Extract features\n",
    "        features = self.feature_extractor(images)  # [B, 2048, 16, 16]\n",
    "\n",
    "        # Reshape to tokens\n",
    "        B, C, H, W = features.shape\n",
    "        tokens = features.flatten(2).transpose(1, 2)  # [B, 256, 2048]\n",
    "\n",
    "        # Project\n",
    "        tokens = self.projection(tokens)  # [B, 256, 1024]\n",
    "\n",
    "        return tokens\n"
   ]
  },
  {
   "cell_type": "code",
   "execution_count": 6,
   "metadata": {
    "executionInfo": {
     "elapsed": 14,
     "status": "ok",
     "timestamp": 1760941309220,
     "user": {
      "displayName": "ratan",
      "userId": "17973471388606863852"
     },
     "user_tz": -330
    },
    "id": "dzQdkVx1LiTJ"
   },
   "outputs": [],
   "source": [
    "\n",
    "class MedicalReportGenerator(nn.Module):\n",
    "    def __init__(self, config):\n",
    "        super().__init__()\n",
    "        self.config = config\n",
    "\n",
    "        # Load image encoder\n",
    "        print(\"Loading ResNet50 from TorchXRayVision...\")\n",
    "        xrv_resnet = xrv.models.ResNet(weights=\"resnet50-res512-all\")\n",
    "        self.image_encoder = ImageEncoder(\n",
    "            xrv_resnet,\n",
    "            resnet_dim=config.resnet_dim,\n",
    "            biogpt_dim=config.biogpt_dim\n",
    "        )\n",
    "\n",
    "        # Load text decoder\n",
    "        print(\"Loading BioGPT...\")\n",
    "        self.text_decoder = AutoModelForCausalLM.from_pretrained(config.text_model)\n",
    "\n",
    "        print(\"\\n\" + \"=\"*70)\n",
    "        print(\"MODEL ARCHITECTURE\")\n",
    "        print(\"=\"*70)\n",
    "        print(f\"Image Encoder:   ResNet50-res512-all (medical pretrained)\")\n",
    "        print(f\"Visual Tokens:   {config.num_visual_tokens}\")\n",
    "        print(f\"Token Dimension: {config.resnet_dim} → {config.biogpt_dim}\")\n",
    "        print(f\"Text Decoder:    BioGPT\")\n",
    "        print(\"=\"*70 + \"\\n\")\n",
    "\n",
    "    def forward(self, images, input_ids, attention_mask):\n",
    "        \"\"\"\n",
    "         Training forward pass using two-pass method with caching\n",
    "\n",
    "         Args:\n",
    "        images: [B, 1, 512, 512]\n",
    "        input_ids: [B, T] - tokenized reports\n",
    "        attention_mask: [B, T] - attention mask for reports\n",
    "\n",
    "       Returns:\n",
    "        loss: scalar\n",
    "        \"\"\"\n",
    "        B = images.shape[0]\n",
    "        V = self.config.num_visual_tokens  # 256\n",
    "\n",
    "    # ============================================================\n",
    "    # PASS 1: Encode images and cache\n",
    "    # ============================================================\n",
    "\n",
    "    # Get image embeddings\n",
    "        image_embeds = self.image_encoder(images)  # [B, 256, 1024]\n",
    "\n",
    "    # Create prefix attention mask (all ones - all image tokens visible)\n",
    "        prefix_mask = torch.ones(B, V, dtype=torch.long, device=images.device)\n",
    "\n",
    "    # Forward through decoder to cache image context\n",
    "    # Use no_grad to save memory (we only want the cache)\n",
    "        with torch.no_grad():\n",
    "            out_prefix = self.text_decoder(\n",
    "                inputs_embeds=image_embeds,\n",
    "                attention_mask=prefix_mask,\n",
    "                use_cache=True,\n",
    "                output_hidden_states=False\n",
    "            )\n",
    "        past_kv = out_prefix.past_key_values\n",
    "\n",
    "    # ============================================================\n",
    "    # PASS 2: Generate text using cached image context\n",
    "    # ============================================================\n",
    "\n",
    "    # Combined attention mask: image prefix + text\n",
    "    # This tells the model: \"text tokens can see image tokens + previous text\"\n",
    "        combined_mask = torch.cat([prefix_mask, attention_mask], dim=1)  # [B, V+T]\n",
    "\n",
    "    # Labels: just the input_ids (model will shift internally for next-token prediction)\n",
    "        labels = input_ids.clone()  # [B, T]\n",
    "\n",
    "    # Forward through text decoder with cached image context\n",
    "        outputs = self.text_decoder(\n",
    "            input_ids=input_ids,           # [B, T] - text tokens to process\n",
    "            attention_mask=combined_mask,  # [B, V+T] - can attend to image + text\n",
    "            past_key_values=past_kv,       # Cached K/V for image tokens\n",
    "            labels=labels,                 # [B, T] - targets for next-token prediction\n",
    "            use_cache=True\n",
    "        )\n",
    "\n",
    "        return outputs.loss\n",
    "\n",
    "    @torch.no_grad()\n",
    "    def generate(self, images, max_length=128, num_beams=4):\n",
    "        \"\"\"\n",
    "        Generate reports from images\n",
    "\n",
    "        Args:\n",
    "            images: [B, 1, 512, 512]\n",
    "            max_length: maximum tokens to generate\n",
    "            num_beams: beam search width\n",
    "\n",
    "        Returns:\n",
    "            generated_ids: [B, max_length]\n",
    "        \"\"\"\n",
    "        self.eval()\n",
    "\n",
    "        # Encode images\n",
    "        image_embeds = self.image_encoder(images)  # [B, 256, 1024]\n",
    "\n",
    "        # Generate from image embeddings\n",
    "        generated_ids = self.text_decoder.generate(\n",
    "            inputs_embeds=image_embeds,\n",
    "            max_length=max_length,\n",
    "            num_beams=num_beams,\n",
    "            early_stopping=True,\n",
    "            pad_token_id=self.text_decoder.config.pad_token_id,\n",
    "            eos_token_id=self.text_decoder.config.eos_token_id\n",
    "        )\n",
    "\n",
    "        return generated_ids\n"
   ]
  },
  {
   "cell_type": "code",
   "execution_count": 7,
   "metadata": {
    "executionInfo": {
     "elapsed": 26,
     "status": "ok",
     "timestamp": 1760941313121,
     "user": {
      "displayName": "ratan",
      "userId": "17973471388606863852"
     },
     "user_tz": -330
    },
    "id": "xEs8yB36LpZx"
   },
   "outputs": [],
   "source": [
    "def train_epoch(model, dataloader, optimizer, scaler, config, epoch):\n",
    "    model.train()\n",
    "    total_loss = 0\n",
    "    progress = tqdm(dataloader, desc=f\"Epoch {epoch+1}/{config.num_epochs}\")\n",
    "\n",
    "    optimizer.zero_grad()\n",
    "\n",
    "    for step, batch in enumerate(progress):\n",
    "        # Move to device\n",
    "        images = batch[\"images\"].to(config.device)\n",
    "        input_ids = batch[\"input_ids\"].to(config.device)\n",
    "        attention_mask = batch[\"attention_mask\"].to(config.device)\n",
    "\n",
    "        # Forward pass with mixed precision\n",
    "        if config.use_amp:\n",
    "            with autocast():\n",
    "                loss = model(images, input_ids, attention_mask)\n",
    "                loss = loss / config.gradient_accumulation_steps\n",
    "\n",
    "            # Backward pass\n",
    "            scaler.scale(loss).backward()\n",
    "\n",
    "            # Update weights every gradient_accumulation_steps\n",
    "            if (step + 1) % config.gradient_accumulation_steps == 0:\n",
    "                scaler.step(optimizer)\n",
    "                scaler.update()\n",
    "                optimizer.zero_grad()\n",
    "        else:\n",
    "            loss = model(images, input_ids, attention_mask)\n",
    "            loss = loss / config.gradient_accumulation_steps\n",
    "            loss.backward()\n",
    "\n",
    "            if (step + 1) % config.gradient_accumulation_steps == 0:\n",
    "                optimizer.step()\n",
    "                optimizer.zero_grad()\n",
    "\n",
    "        # Track loss\n",
    "        total_loss += loss.item() * config.gradient_accumulation_steps\n",
    "        progress.set_postfix({'loss': loss.item() * config.gradient_accumulation_steps})\n",
    "\n",
    "    avg_loss = total_loss / len(dataloader)\n",
    "    return avg_loss\n",
    "\n",
    "@torch.no_grad()\n",
    "def validate(model, dataloader, config):\n",
    "    model.eval()\n",
    "    total_loss = 0\n",
    "\n",
    "    progress = tqdm(dataloader, desc=\"Validation\")\n",
    "    for batch in progress:\n",
    "        images = batch[\"images\"].to(config.device)\n",
    "        input_ids = batch[\"input_ids\"].to(config.device)\n",
    "        attention_mask = batch[\"attention_mask\"].to(config.device)\n",
    "\n",
    "        if config.use_amp:\n",
    "            with autocast():\n",
    "                loss = model(images, input_ids, attention_mask)\n",
    "        else:\n",
    "            loss = model(images, input_ids, attention_mask)\n",
    "\n",
    "        total_loss += loss.item()\n",
    "        progress.set_postfix({'loss': loss.item()})\n",
    "\n",
    "    avg_loss = total_loss / len(dataloader)\n",
    "    return avg_loss"
   ]
  },
  {
   "cell_type": "code",
   "execution_count": 8,
   "metadata": {
    "executionInfo": {
     "elapsed": 27,
     "status": "ok",
     "timestamp": 1760941315147,
     "user": {
      "displayName": "ratan",
      "userId": "17973471388606863852"
     },
     "user_tz": -330
    },
    "id": "8HC5cmpzMY9w"
   },
   "outputs": [],
   "source": [
    "\n",
    "def main():\n",
    "    print(\"=\"*70)\n",
    "    print(\"MEDICAL REPORT GENERATION TRAINING - CONTINUING FROM EPOCH 4\")\n",
    "    print(\"=\"*70)\n",
    "\n",
    "    # Load tokenizer\n",
    "    print(\"\\nLoading tokenizer...\")\n",
    "    tokenizer = AutoTokenizer.from_pretrained(config.text_model)\n",
    "\n",
    "    # Set pad token if not present\n",
    "    if tokenizer.pad_token is None:\n",
    "        tokenizer.pad_token = tokenizer.eos_token\n",
    "\n",
    "    # Load datasets\n",
    "    print(\"\\nLoading datasets...\")\n",
    "    train_dataset = MIMICDataset(config.train_csv)\n",
    "    val_dataset = MIMICDataset(config.val_csv)\n",
    "\n",
    "    # Create dataloaders\n",
    "    train_loader = DataLoader(\n",
    "        train_dataset,\n",
    "        batch_size=config.batch_size,\n",
    "        shuffle=True,\n",
    "        num_workers=4,\n",
    "        collate_fn=make_collate_fn(tokenizer, config.max_length),\n",
    "        pin_memory=True\n",
    "    )\n",
    "\n",
    "    val_loader = DataLoader(\n",
    "        val_dataset,\n",
    "        batch_size=config.batch_size,\n",
    "        shuffle=False,\n",
    "        num_workers=2,\n",
    "        collate_fn=make_collate_fn(tokenizer, config.max_length),\n",
    "        pin_memory=True\n",
    "    )\n",
    "\n",
    "    print(f\"Train batches: {len(train_loader)}\")\n",
    "    print(f\"Val batches: {len(val_loader)}\")\n",
    "\n",
    "    # Initialize model\n",
    "    print(\"\\nInitializing model...\")\n",
    "    model = MedicalReportGenerator(config).to(config.device)\n",
    "\n",
    "    # Count parameters\n",
    "    total_params = sum(p.numel() for p in model.parameters())\n",
    "    trainable_params = sum(p.numel() for p in model.parameters() if p.requires_grad)\n",
    "    print(f\"\\nTotal parameters: {total_params:,}\")\n",
    "    print(f\"Trainable parameters: {trainable_params:,}\")\n",
    "\n",
    "    # Optimizer\n",
    "    optimizer = torch.optim.AdamW(model.parameters(), lr=config.learning_rate)\n",
    "\n",
    "    # Mixed precision scaler\n",
    "    scaler = GradScaler() if config.use_amp else None\n",
    "\n",
    "    # Load checkpoint\n",
    "    print(\"\\n\" + \"=\"*70)\n",
    "    print(\"LOADING CHECKPOINT\")\n",
    "    print(\"=\"*70)\n",
    "    checkpoint = torch.load(\"checkpoints/best_model.pt\", map_location=config.device)\n",
    "    model.load_state_dict(checkpoint['model_state_dict'])\n",
    "    optimizer.load_state_dict(checkpoint['optimizer_state_dict'])\n",
    "    best_val_loss = checkpoint['val_loss']\n",
    "    print(f\" Loaded checkpoint from epoch {checkpoint['epoch'] + 1}\")\n",
    "    print(f\"   Previous val loss: {best_val_loss:.4f}\")\n",
    "\n",
    "    # Training loop\n",
    "    print(\"\\n\" + \"=\"*70)\n",
    "    print(\"STARTING TRAINING - EPOCHS 5 to 8\")\n",
    "    print(\"=\"*70 + \"\\n\")\n",
    "\n",
    "    for epoch in range(4, 8):  # Epochs 5, 6, 7, 8\n",
    "        # Train\n",
    "        train_loss = train_epoch(model, train_loader, optimizer, scaler, config, epoch)\n",
    "        print(f\"Epoch {epoch+1} - Train Loss: {train_loss:.4f}\")\n",
    "\n",
    "        # Validate\n",
    "        val_loss = validate(model, val_loader, config)\n",
    "        print(f\"Epoch {epoch+1} - Val Loss: {val_loss:.4f}\")\n",
    "\n",
    "        # Save best model\n",
    "        if val_loss < best_val_loss:\n",
    "            best_val_loss = val_loss\n",
    "            checkpoint_path = os.path.join(config.save_dir, \"best_model.pt\")\n",
    "            torch.save({\n",
    "                'epoch': epoch,\n",
    "                'model_state_dict': model.state_dict(),\n",
    "                'optimizer_state_dict': optimizer.state_dict(),\n",
    "                'train_loss': train_loss,\n",
    "                'val_loss': val_loss,\n",
    "            }, checkpoint_path)\n",
    "            print(f\"✅ Saved best model (val_loss: {val_loss:.4f})\")\n",
    "\n",
    "        # Save checkpoint every epoch\n",
    "        checkpoint_path = os.path.join(config.save_dir, f\"checkpoint_epoch_{epoch+1}.pt\")\n",
    "        torch.save({\n",
    "            'epoch': epoch,\n",
    "            'model_state_dict': model.state_dict(),\n",
    "            'optimizer_state_dict': optimizer.state_dict(),\n",
    "            'train_loss': train_loss,\n",
    "            'val_loss': val_loss,\n",
    "        }, checkpoint_path)\n",
    "\n",
    "        print(\"-\"*70 + \"\\n\")\n",
    "\n",
    "    print(\"=\"*70)\n",
    "    print(\"TRAINING COMPLETE!\")\n",
    "    print(\"=\"*70)\n",
    "    print(f\"Best validation loss: {best_val_loss:.4f}\")\n",
    "\n",
    "# ==============================================================================\n",
    "# INFERENCE EXAMPLE\n",
    "# ==============================================================================\n",
    "\n",
    "def inference_example():\n",
    "    \"\"\"Example of how to generate reports from images\"\"\"\n",
    "\n",
    "    # Load model\n",
    "    model = MedicalReportGenerator(config).to(config.device)\n",
    "    checkpoint = torch.load(os.path.join(config.save_dir, \"best_model.pt\"))\n",
    "    model.load_state_dict(checkpoint['model_state_dict'])\n",
    "    model.eval()\n",
    "\n",
    "    # Load tokenizer\n",
    "    tokenizer = AutoTokenizer.from_pretrained(config.text_model)\n",
    "\n",
    "    # Load a sample image\n",
    "    val_dataset = MIMICDataset(config.val_csv)\n",
    "    val_loader = DataLoader(\n",
    "        val_dataset,\n",
    "        batch_size=1,\n",
    "        shuffle=False,\n",
    "        collate_fn=make_collate_fn(tokenizer, config.max_length)\n",
    "    )\n",
    "\n",
    "    # Generate\n",
    "    batch = next(iter(val_loader))\n",
    "    images = batch[\"images\"].to(config.device)\n",
    "\n",
    "    print(\"Generating report...\")\n",
    "    generated_ids = model.generate(images, max_length=config.max_length, num_beams=4)\n",
    "\n",
    "    # Decode\n",
    "    generated_report = tokenizer.decode(generated_ids[0], skip_special_tokens=True)\n",
    "    ground_truth = tokenizer.decode(batch[\"input_ids\"][0], skip_special_tokens=True)\n",
    "\n",
    "    print(\"\\n\" + \"=\"*70)\n",
    "    print(\"GENERATED REPORT:\")\n",
    "    print(\"=\"*70)\n",
    "    print(generated_report)\n",
    "    print(\"\\n\" + \"=\"*70)\n",
    "    print(\"GROUND TRUTH:\")\n",
    "    print(\"=\"*70)\n",
    "    print(ground_truth)\n",
    "\n"
   ]
  },
  {
   "cell_type": "code",
   "execution_count": 9,
   "metadata": {
    "colab": {
     "base_uri": "https://localhost:8080/",
     "height": 1000,
     "referenced_widgets": [
      "86e89b2c8b4f47b3aeb380b11d028c15",
      "32ff772a27de4d369cee5e793fc1cb95",
      "c3daa0fd79bc4ed0b1f187d2bf28735d",
      "416e5243e1134798a11ac0d0a05950e5",
      "1da552f38680442497f2832170e3d6cf",
      "25c29734d44143d99c758e8e3610169e",
      "44469916e1bc42dc9f06705cf3d5fedf",
      "3576c3be174d4961bb967e050e06630f",
      "d482a28f1fae4dd8b64d9f904bf1ac50",
      "57b5e957d923496f957570a976d7fcf7",
      "b4e94769300542d9885d943cf7a5a99e",
      "30decc1d7f5c413e86a66c182e2149eb",
      "d5c6efd8005a4e0d8feebc09c4aa2137",
      "a52307706ac941cfa994ad12b2e04e38",
      "e8f7240d269a4527a6afaa6c2d1b88c2",
      "6d26cd9f87d24ba382bb71d7dc79a996",
      "9df213e3ac56475295961f90debe58d9",
      "ddcf32d2a781412ba36cbbff452b720c",
      "82b9c73897f04914a51e16ed8ae995aa",
      "e35d0e05534d4d6188eee584ed47a464",
      "d7a0acf4e6e54266bd2ebb314a7da66e",
      "ee2912537ce94783bef4b3454a645aa6",
      "8bc01fade69d4ac5b324bd020a4ad185",
      "cdb494bd916e454e8c84ccf4e3ee2f1a",
      "38c28930acdb47e3a29930da3371f359",
      "5f7d8ff13d0840c1959c01a9448c6b1d",
      "4ed65b3ad0fc4b33a1bddbd1531494ae",
      "1e0efed52cfd4f72a440746ba4f08bdc",
      "a57d3e82a0d14085a702c9de5a7ea9c9",
      "7ace3e82d07e4f1b8b51c18cb57a0b39",
      "51036aec233e4f44849c1ab88adab339",
      "840b683db037418fa327c895b9d3dae2",
      "3b6fe80fa93140c4a98b686c80be6fdf",
      "150ff90576e047b2a4fb7f03033c72fe",
      "c4f41a66eb744b8690271dc6d7c72f71",
      "078853f8c5f94da48736d5fe1bae03e5",
      "965b38f8f1e34ab8bbaaaf36d5484a4e",
      "3fd8fba7987543eca02978464ae3974f",
      "f3ab8821b18c43e3b12cc293bdde8e01",
      "5761d6316e1e4726a1020ad76ec4b91c",
      "1f4908f8e9ed4812a058bc4e877d2ca8",
      "d702a2377fe94ffea16745bfbca9f911",
      "0bee17fd6e264726854eee6c8c068801",
      "273f3965e2114198b95fd6a9639777f3",
      "813a31df12984e658b763dd656fc1549",
      "03d2a0df49c24010b2e31072adff2be1",
      "40867017aacd48709ad3008a26cfb6c2",
      "b86ce2c3339d439c97a9fea0f1d0c16f",
      "0ec97ca6c4a24ca385dfac4fe6df144c",
      "2144c8a56aec4a73a94350cb29883117",
      "3be6efe9a4ec4742b71ed29dc3fafd28",
      "f5b006ea02af48338262806134ec6cb1",
      "2316c3caf9094342a899facfe3f1772c",
      "1e364189051d4508afbff7a6b95bdb6b",
      "b91545a373884e02b958fe6a1469e8c7",
      "bd4034979bd94599957b4d045e7cd7a9",
      "09bcb58bf46d4fa4a197a444565a510a",
      "b5932bf4c0624e82a3be54808c0346cc",
      "d65425e1b7f24e6bb434892622371a3b",
      "9ad9dcad30434f42805d11805c422f6c",
      "019d7399299f487792a87eb62eab4d82",
      "50c8f3d0b09d4be7973d747c222a53ec",
      "61895a735a1545c59fcd624c9d47e3db",
      "242d26abef9e4f58a127a6f0fe6ec8f8",
      "381d34c9f6ee492ea672ec7803f95fa4",
      "f936a2189f03459aa8ca50e634bc4d7d",
      "8d0cc5195cea49238ea2b339d135a07d",
      "9aac54bd7cc14ab8a54581fa51e9fb77",
      "316b0a60eda04280bdaacdb113a000e7",
      "6c4f938256594e6aabfcb618f3c07754",
      "465e5eaece4d4870b74d0850e39370da",
      "ba952bf5310740d386f55783fbbd7f0c",
      "e7e3b986758f4776b8c052eaec219442",
      "f544fce80e1944988d503e4afabf7a2b",
      "63393eca9a3240f1ad52c323984197d9",
      "ed8b3a7c17b9438faee28da3fce174aa",
      "1fe888621e344f7a8e464b170b3cbd92",
      "531ac07245804ced8373de52e08ddffb",
      "0bbe23429ffb44508b67249d04d1299c",
      "617a4b05a37a4eb49502dd1517cef2a5",
      "7acadd0756034f749d105051731ca135",
      "d21e5dae1e2944af85e589099c28aac4",
      "548f7f656fc548a9ae28fa6c08fc9071",
      "7da105f18b0743479fb6bdda7acab961",
      "8804b4afa3a3404c83cad932c83f2078",
      "b56169a4884a4a19975aac036ba54216",
      "cc0a864d5bde4585bbf96818ec9b8ed4",
      "f689043bcef547088e35b70eec1b7a1e"
     ]
    },
    "executionInfo": {
     "elapsed": 15182246,
     "status": "ok",
     "timestamp": 1760956502685,
     "user": {
      "displayName": "ratan",
      "userId": "17973471388606863852"
     },
     "user_tz": -330
    },
    "id": "icTXH218Mrac",
    "outputId": "b084eb94-3914-4a4d-d59d-2a21c8f7643a"
   },
   "outputs": [
    {
     "name": "stdout",
     "output_type": "stream",
     "text": [
      "======================================================================\n",
      "MEDICAL REPORT GENERATION TRAINING - CONTINUING FROM EPOCH 4\n",
      "======================================================================\n",
      "\n",
      "Loading tokenizer...\n",
      "\n",
      "Loading datasets...\n",
      " Loaded 94949 samples from train.csv\n",
      " Loaded 10526 samples from val.csv\n",
      "Train batches: 3957\n",
      "Val batches: 439\n",
      "\n",
      "Initializing model...\n",
      "Loading ResNet50 from TorchXRayVision...\n",
      "Loading BioGPT...\n",
      "\n",
      "======================================================================\n",
      "MODEL ARCHITECTURE\n",
      "======================================================================\n",
      "Image Encoder:   ResNet50-res512-all (medical pretrained)\n",
      "Visual Tokens:   256\n",
      "Token Dimension: 2048 → 1024\n",
      "Text Decoder:    BioGPT\n",
      "======================================================================\n",
      "\n",
      "\n",
      "Total parameters: 372,365,248\n",
      "Trainable parameters: 372,365,248\n",
      "\n",
      "======================================================================\n",
      "LOADING CHECKPOINT\n",
      "======================================================================\n",
      " Loaded checkpoint from epoch 4\n",
      "   Previous val loss: 2.2326\n",
      "\n",
      "======================================================================\n",
      "STARTING TRAINING - EPOCHS 5 to 8\n",
      "======================================================================\n",
      "\n"
     ]
    },
    {
     "data": {
      "application/vnd.jupyter.widget-view+json": {
       "model_id": "86e89b2c8b4f47b3aeb380b11d028c15",
       "version_major": 2,
       "version_minor": 0
      },
      "text/plain": [
       "Epoch 5/8:   0%|          | 0/3957 [00:00<?, ?it/s]"
      ]
     },
     "metadata": {},
     "output_type": "display_data"
    },
    {
     "name": "stdout",
     "output_type": "stream",
     "text": [
      "Epoch 5 - Train Loss: 2.3244\n"
     ]
    },
    {
     "data": {
      "application/vnd.jupyter.widget-view+json": {
       "model_id": "30decc1d7f5c413e86a66c182e2149eb",
       "version_major": 2,
       "version_minor": 0
      },
      "text/plain": [
       "Validation:   0%|          | 0/439 [00:00<?, ?it/s]"
      ]
     },
     "metadata": {},
     "output_type": "display_data"
    },
    {
     "name": "stdout",
     "output_type": "stream",
     "text": [
      "Epoch 5 - Val Loss: 2.0713\n",
      "✅ Saved best model (val_loss: 2.0713)\n",
      "----------------------------------------------------------------------\n",
      "\n"
     ]
    },
    {
     "data": {
      "application/vnd.jupyter.widget-view+json": {
       "model_id": "8bc01fade69d4ac5b324bd020a4ad185",
       "version_major": 2,
       "version_minor": 0
      },
      "text/plain": [
       "Epoch 6/8:   0%|          | 0/3957 [00:00<?, ?it/s]"
      ]
     },
     "metadata": {},
     "output_type": "display_data"
    },
    {
     "name": "stdout",
     "output_type": "stream",
     "text": [
      "Epoch 6 - Train Loss: 2.1782\n"
     ]
    },
    {
     "data": {
      "application/vnd.jupyter.widget-view+json": {
       "model_id": "150ff90576e047b2a4fb7f03033c72fe",
       "version_major": 2,
       "version_minor": 0
      },
      "text/plain": [
       "Validation:   0%|          | 0/439 [00:00<?, ?it/s]"
      ]
     },
     "metadata": {},
     "output_type": "display_data"
    },
    {
     "name": "stdout",
     "output_type": "stream",
     "text": [
      "Epoch 6 - Val Loss: 1.9558\n",
      "✅ Saved best model (val_loss: 1.9558)\n",
      "----------------------------------------------------------------------\n",
      "\n"
     ]
    },
    {
     "data": {
      "application/vnd.jupyter.widget-view+json": {
       "model_id": "813a31df12984e658b763dd656fc1549",
       "version_major": 2,
       "version_minor": 0
      },
      "text/plain": [
       "Epoch 7/8:   0%|          | 0/3957 [00:00<?, ?it/s]"
      ]
     },
     "metadata": {},
     "output_type": "display_data"
    },
    {
     "name": "stdout",
     "output_type": "stream",
     "text": [
      "Epoch 7 - Train Loss: 2.0744\n"
     ]
    },
    {
     "data": {
      "application/vnd.jupyter.widget-view+json": {
       "model_id": "bd4034979bd94599957b4d045e7cd7a9",
       "version_major": 2,
       "version_minor": 0
      },
      "text/plain": [
       "Validation:   0%|          | 0/439 [00:00<?, ?it/s]"
      ]
     },
     "metadata": {},
     "output_type": "display_data"
    },
    {
     "name": "stdout",
     "output_type": "stream",
     "text": [
      "Epoch 7 - Val Loss: 1.8702\n",
      "✅ Saved best model (val_loss: 1.8702)\n",
      "----------------------------------------------------------------------\n",
      "\n"
     ]
    },
    {
     "data": {
      "application/vnd.jupyter.widget-view+json": {
       "model_id": "8d0cc5195cea49238ea2b339d135a07d",
       "version_major": 2,
       "version_minor": 0
      },
      "text/plain": [
       "Epoch 8/8:   0%|          | 0/3957 [00:00<?, ?it/s]"
      ]
     },
     "metadata": {},
     "output_type": "display_data"
    },
    {
     "name": "stdout",
     "output_type": "stream",
     "text": [
      "Epoch 8 - Train Loss: 1.9949\n"
     ]
    },
    {
     "data": {
      "application/vnd.jupyter.widget-view+json": {
       "model_id": "531ac07245804ced8373de52e08ddffb",
       "version_major": 2,
       "version_minor": 0
      },
      "text/plain": [
       "Validation:   0%|          | 0/439 [00:00<?, ?it/s]"
      ]
     },
     "metadata": {},
     "output_type": "display_data"
    },
    {
     "name": "stdout",
     "output_type": "stream",
     "text": [
      "Epoch 8 - Val Loss: 1.8035\n",
      "✅ Saved best model (val_loss: 1.8035)\n",
      "----------------------------------------------------------------------\n",
      "\n",
      "======================================================================\n",
      "TRAINING COMPLETE!\n",
      "======================================================================\n",
      "Best validation loss: 1.8035\n"
     ]
    }
   ],
   "source": [
    "# ==============================================================================\n",
    "# RUN\n",
    "# ==============================================================================\n",
    "\n",
    "if __name__ == \"__main__\":\n",
    "    # Train\n",
    "    main()\n",
    "\n",
    "    # Inference example\n",
    "    # inference_example()"
   ]
  },
  {
   "cell_type": "code",
   "execution_count": 10,
   "metadata": {
    "colab": {
     "base_uri": "https://localhost:8080/",
     "height": 138
    },
    "executionInfo": {
     "elapsed": 50,
     "status": "ok",
     "timestamp": 1760956502693,
     "user": {
      "displayName": "ratan",
      "userId": "17973471388606863852"
     },
     "user_tz": -330
    },
    "id": "sfwp7-z4VS4t",
    "outputId": "bbdd9250-4376-4f6a-85d0-af6113d0ac24"
   },
   "outputs": [
    {
     "name": "stdout",
     "output_type": "stream",
     "text": [
      "\n",
      "======================================================================\n",
      " DOWNLOADING BEST CHECKPOINT\n",
      "======================================================================\n"
     ]
    },
    {
     "data": {
      "application/javascript": [
       "\n",
       "    async function download(id, filename, size) {\n",
       "      if (!google.colab.kernel.accessAllowed) {\n",
       "        return;\n",
       "      }\n",
       "      const div = document.createElement('div');\n",
       "      const label = document.createElement('label');\n",
       "      label.textContent = `Downloading \"${filename}\": `;\n",
       "      div.appendChild(label);\n",
       "      const progress = document.createElement('progress');\n",
       "      progress.max = size;\n",
       "      div.appendChild(progress);\n",
       "      document.body.appendChild(div);\n",
       "\n",
       "      const buffers = [];\n",
       "      let downloaded = 0;\n",
       "\n",
       "      const channel = await google.colab.kernel.comms.open(id);\n",
       "      // Send a message to notify the kernel that we're ready.\n",
       "      channel.send({})\n",
       "\n",
       "      for await (const message of channel.messages) {\n",
       "        // Send a message to notify the kernel that we're ready.\n",
       "        channel.send({})\n",
       "        if (message.buffers) {\n",
       "          for (const buffer of message.buffers) {\n",
       "            buffers.push(buffer);\n",
       "            downloaded += buffer.byteLength;\n",
       "            progress.value = downloaded;\n",
       "          }\n",
       "        }\n",
       "      }\n",
       "      const blob = new Blob(buffers, {type: 'application/binary'});\n",
       "      const a = document.createElement('a');\n",
       "      a.href = window.URL.createObjectURL(blob);\n",
       "      a.download = filename;\n",
       "      div.appendChild(a);\n",
       "      a.click();\n",
       "      div.remove();\n",
       "    }\n",
       "  "
      ],
      "text/plain": [
       "<IPython.core.display.Javascript object>"
      ]
     },
     "metadata": {},
     "output_type": "display_data"
    },
    {
     "data": {
      "application/javascript": [
       "download(\"download_957bdb37-9366-414d-b9f5-16f84ed5ab0d\", \"best_model.pt\", 1846449165)"
      ],
      "text/plain": [
       "<IPython.core.display.Javascript object>"
      ]
     },
     "metadata": {},
     "output_type": "display_data"
    },
    {
     "name": "stdout",
     "output_type": "stream",
     "text": [
      " Downloaded best_model.pt (1.7GB)\n",
      "======================================================================\n"
     ]
    }
   ],
   "source": [
    "try:\n",
    "    from google.colab import files\n",
    "    print(\"\\n\" + \"=\"*70)\n",
    "    print(\" DOWNLOADING BEST CHECKPOINT\")\n",
    "    print(\"=\"*70)\n",
    "    files.download('checkpoints/best_model.pt')\n",
    "    print(\" Downloaded best_model.pt (1.6GB)\")\n",
    "    print(\"=\"*70)\n",
    "except:\n",
    "    print(\" Not in Colab - checkpoint saved locally\")"
   ]
  }
 ],
 "metadata": {
  "accelerator": "GPU",
  "colab": {
   "gpuType": "T4",
   "provenance": []
  },
  "kernelspec": {
   "display_name": "Python 3",
   "name": "python3"
  },
  "language_info": {
   "name": "python"
  }
 },
 "nbformat": 4,
 "nbformat_minor": 0
}
